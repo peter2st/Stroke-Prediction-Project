{
 "cells": [
  {
   "cell_type": "markdown",
   "metadata": {},
   "source": [
    "# Stroke Prediction Project\n",
    "The goal behind this project is to use different machine learning models to predict if someone is likely to have a stroke or not.\n",
    "\n",
    "I plan on using K-Nearest Neighbor and multiple linear regression to do the predictions."
   ]
  },
  {
   "cell_type": "markdown",
   "metadata": {},
   "source": [
    "First, we will import everything that we need."
   ]
  },
  {
   "cell_type": "code",
   "execution_count": 1,
   "metadata": {},
   "outputs": [],
   "source": [
    "import pandas as pd\n",
    "import numpy as np\n",
    "import matplotlib.pyplot as plt\n",
    "from sklearn.neighbors import KNeighborsClassifier\n",
    "from sklearn.model_selection import train_test_split\n",
    "from sklearn.linear_model import LinearRegression\n",
    "from sklearn import preprocessing"
   ]
  },
  {
   "cell_type": "code",
   "execution_count": 2,
   "metadata": {},
   "outputs": [],
   "source": [
    "df = pd.read_csv('C:/Users/scott/Desktop/Programming Stuff/Python Stuff/Stroke Project/healthcare-dataset-stroke-data.csv')"
   ]
  },
  {
   "cell_type": "code",
   "execution_count": 3,
   "metadata": {
    "scrolled": false
   },
   "outputs": [
    {
     "name": "stdout",
     "output_type": "stream",
     "text": [
      "      id  gender   age  hypertension  heart_disease ever_married  \\\n",
      "0   9046    Male  67.0             0              1          Yes   \n",
      "1  51676  Female  61.0             0              0          Yes   \n",
      "2  31112    Male  80.0             0              1          Yes   \n",
      "3  60182  Female  49.0             0              0          Yes   \n",
      "4   1665  Female  79.0             1              0          Yes   \n",
      "5  56669    Male  81.0             0              0          Yes   \n",
      "6  53882    Male  74.0             1              1          Yes   \n",
      "7  10434  Female  69.0             0              0           No   \n",
      "8  27419  Female  59.0             0              0          Yes   \n",
      "9  60491  Female  78.0             0              0          Yes   \n",
      "\n",
      "       work_type Residence_type  avg_glucose_level   bmi   smoking_status  \\\n",
      "0        Private          Urban             228.69  36.6  formerly smoked   \n",
      "1  Self-employed          Rural             202.21   NaN     never smoked   \n",
      "2        Private          Rural             105.92  32.5     never smoked   \n",
      "3        Private          Urban             171.23  34.4           smokes   \n",
      "4  Self-employed          Rural             174.12  24.0     never smoked   \n",
      "5        Private          Urban             186.21  29.0  formerly smoked   \n",
      "6        Private          Rural              70.09  27.4     never smoked   \n",
      "7        Private          Urban              94.39  22.8     never smoked   \n",
      "8        Private          Rural              76.15   NaN          Unknown   \n",
      "9        Private          Urban              58.57  24.2          Unknown   \n",
      "\n",
      "   stroke  \n",
      "0       1  \n",
      "1       1  \n",
      "2       1  \n",
      "3       1  \n",
      "4       1  \n",
      "5       1  \n",
      "6       1  \n",
      "7       1  \n",
      "8       1  \n",
      "9       1  \n",
      "5110\n",
      "['Private' 'Self-employed' 'Govt_job' 'children' 'Never_worked']\n",
      "['formerly smoked' 'never smoked' 'smokes' 'Unknown']\n"
     ]
    }
   ],
   "source": [
    "print(df.head(10))\n",
    "print(len(df))\n",
    "print(df['work_type'].unique())\n",
    "print(df['smoking_status'].unique())"
   ]
  },
  {
   "cell_type": "markdown",
   "metadata": {},
   "source": [
    "We have 5110 entries in our dataset.\n",
    "Let's first do a multiple linear regression model.\n",
    "\n",
    "- First, we need to clean the data a bit. We will need to change everything to a binary state. So all of the categorical variables will be changed to either 1 or 0 to represent one or more states.\n",
    "\n",
    "- We will also need to drop any entries with a NaN for BMI and we'll replace it with the average BMI.\n"
   ]
  },
  {
   "cell_type": "code",
   "execution_count": 4,
   "metadata": {
    "scrolled": true
   },
   "outputs": [
    {
     "name": "stdout",
     "output_type": "stream",
     "text": [
      "    gender       age  hypertension  heart_disease  ever_married  \\\n",
      "0        0  0.816895             0              1             1   \n",
      "1        1  0.743652             0              0             1   \n",
      "2        0  0.975586             0              1             1   \n",
      "3        1  0.597168             0              0             1   \n",
      "4        1  0.963379             1              0             1   \n",
      "5        0  0.987793             0              0             1   \n",
      "6        0  0.902344             1              1             1   \n",
      "7        1  0.841309             0              0             0   \n",
      "8        1  0.719238             0              0             1   \n",
      "9        1  0.951172             0              0             1   \n",
      "10       1  0.987793             1              0             1   \n",
      "11       1  0.743652             0              1             1   \n",
      "12       1  0.658203             0              0             1   \n",
      "13       0  0.951172             0              1             1   \n",
      "14       1  0.963379             0              1             1   \n",
      "15       1  0.609375             1              0             1   \n",
      "16       0  0.780273             0              1             1   \n",
      "17       0  0.914551             1              0             1   \n",
      "18       1  0.731445             0              0             0   \n",
      "19       0  0.694824             0              1             0   \n",
      "20       1  0.865723             0              0             1   \n",
      "21       1  0.633789             1              0             1   \n",
      "22       1  0.963379             0              0             1   \n",
      "23       0  1.000000             0              1             1   \n",
      "24       0  0.865723             0              0             1   \n",
      "\n",
      "    Residence_type  avg_glucose_level       bmi  stroke  smokes  \\\n",
      "0                1           0.801265  0.301260       1       0   \n",
      "1                0           0.679023  0.212996       1       0   \n",
      "2                0           0.234512  0.254296       1       0   \n",
      "3                1           0.536008  0.276060       1       1   \n",
      "4                0           0.549349  0.156930       1       0   \n",
      "5                1           0.605161  0.214204       1       0   \n",
      "6                0           0.069107  0.195876       1       0   \n",
      "7                1           0.181285  0.143184       1       0   \n",
      "8                0           0.097082  0.212996       1       0   \n",
      "9                1           0.015927  0.159221       1       0   \n",
      "10               0           0.116841  0.222222       1       0   \n",
      "11               0           0.301634  0.303551       1       1   \n",
      "12               1           0.228003  0.194731       1       1   \n",
      "13               1           0.760410  0.212996       1       0   \n",
      "14               1           0.733866  0.205040       1       0   \n",
      "15               0           0.518373  0.235968       1       0   \n",
      "16               1           0.630090  0.311569       1       1   \n",
      "17               1           0.767104  0.177549       1       1   \n",
      "18               1           0.157419  0.315006       1       0   \n",
      "19               1           0.747669  0.212996       1       0   \n",
      "20               0           0.640846  0.138603       1       1   \n",
      "21               1           0.822500  0.442153       1       0   \n",
      "22               1           0.801311  0.186712       1       0   \n",
      "23               0           0.707137  0.254296       1       0   \n",
      "24               1           0.220432  0.193585       1       0   \n",
      "\n",
      "    formerly_smoked  never_smoked  Private  Self-employed  Govt_job  Child  \\\n",
      "0                 1             0        1              0         0      0   \n",
      "1                 0             1        0              1         0      0   \n",
      "2                 0             1        1              0         0      0   \n",
      "3                 0             0        1              0         0      0   \n",
      "4                 0             1        0              1         0      0   \n",
      "5                 1             0        1              0         0      0   \n",
      "6                 0             1        1              0         0      0   \n",
      "7                 0             1        1              0         0      0   \n",
      "8                 0             0        1              0         0      0   \n",
      "9                 0             0        1              0         0      0   \n",
      "10                0             1        1              0         0      0   \n",
      "11                0             0        0              0         1      0   \n",
      "12                0             0        1              0         0      0   \n",
      "13                0             0        1              0         0      0   \n",
      "14                0             1        1              0         0      0   \n",
      "15                0             1        0              1         0      0   \n",
      "16                0             0        1              0         0      0   \n",
      "17                0             0        1              0         0      0   \n",
      "18                0             1        1              0         0      0   \n",
      "19                0             0        0              0         1      0   \n",
      "20                0             0        0              0         1      0   \n",
      "21                0             1        0              1         0      0   \n",
      "22                0             1        0              1         0      0   \n",
      "23                0             0        1              0         0      0   \n",
      "24                1             0        1              0         0      0   \n",
      "\n",
      "    Never_worked  \n",
      "0              0  \n",
      "1              0  \n",
      "2              0  \n",
      "3              0  \n",
      "4              0  \n",
      "5              0  \n",
      "6              0  \n",
      "7              0  \n",
      "8              0  \n",
      "9              0  \n",
      "10             0  \n",
      "11             0  \n",
      "12             0  \n",
      "13             0  \n",
      "14             0  \n",
      "15             0  \n",
      "16             0  \n",
      "17             0  \n",
      "18             0  \n",
      "19             0  \n",
      "20             0  \n",
      "21             0  \n",
      "22             0  \n",
      "23             0  \n",
      "24             0  \n"
     ]
    }
   ],
   "source": [
    "df.drop(df[df['gender'] == 'Other'].index, inplace = True)\n",
    "df['gender'].replace('Female', 1,inplace=True)\n",
    "df['gender'].replace('Male', 0,inplace=True)\n",
    "\n",
    "df['ever_married'] = df['ever_married'].map(lambda x: 1 if x == 'Yes' else 0)\n",
    "\n",
    "df['Residence_type'].replace('Urban', 1,inplace=True)\n",
    "df['Residence_type'].replace('Rural', 0,inplace=True)\n",
    "\n",
    "\n",
    "df['smokes'] = df['smoking_status'].apply(lambda x: 1 if x == 'smokes' else 0)\n",
    "df['formerly_smoked'] = df['smoking_status'].apply(lambda x: 1 if x == 'formerly smoked' else 0)\n",
    "df['never_smoked'] = df['smoking_status'].apply(lambda x: 1 if x == 'never smoked' else 0)\n",
    "\n",
    "df['Private'] = df['work_type'].apply(lambda x: 1 if x == 'Private' else 0)\n",
    "df['Self-employed'] = df['work_type'].apply(lambda x: 1 if x == 'Self-employed' else 0)\n",
    "df['Govt_job'] = df['work_type'].apply(lambda x: 1 if x == 'Govt_job' else 0)\n",
    "df['Child'] = df['work_type'].apply(lambda x: 1 if x == 'children' else 0)\n",
    "df['Never_worked'] = df['work_type'].apply(lambda x: 1 if x == 'Never_worked' else 0)\n",
    "\n",
    "max_age = max(df['age'])\n",
    "min_age = min(df['age'])\n",
    "df['age'] = df['age'].apply(lambda x: ((x - min_age)/(max_age - min_age)))\n",
    "\n",
    "max_glucose = max(df['avg_glucose_level'])\n",
    "min_glucose = min(df['avg_glucose_level'])\n",
    "df['avg_glucose_level'] = df['avg_glucose_level'].apply(lambda x: ((x - min_glucose)/(max_glucose - min_glucose)))\n",
    "\n",
    "df['bmi'].fillna(np.mean(df['bmi']), inplace=True)\n",
    "max_bmi = max(df['bmi'])\n",
    "min_bmi = min(df['bmi'])\n",
    "df['bmi'] = df['bmi'].apply(lambda x: ((x - min_bmi)/(max_bmi - min_bmi)))\n",
    "\n",
    "del df['work_type']\n",
    "del df['smoking_status']\n",
    "del df['id']\n",
    "\n",
    "x = df[['gender', 'age', 'hypertension', 'heart_disease', 'ever_married', 'Residence_type', 'avg_glucose_level', 'bmi', 'smokes', 'formerly_smoked', 'never_smoked', 'Private', 'Self-employed', 'Govt_job', 'Child', 'Never_worked']]\n",
    "y = df[['stroke']]\n",
    "\n",
    "print(df.head(25))"
   ]
  },
  {
   "cell_type": "markdown",
   "metadata": {},
   "source": [
    "Next, we want to split our data. We'll do a 80-20 split.\n",
    "And we'll make and fit our models."
   ]
  },
  {
   "cell_type": "code",
   "execution_count": 5,
   "metadata": {},
   "outputs": [],
   "source": [
    "x_train, x_test, y_train, y_test = train_test_split(x, y, train_size = 0.8, test_size = 0.2, random_state=100)\n",
    "lr = LinearRegression()\n",
    "model = lr.fit(x_train, y_train)\n",
    "y_predict = lr.predict(x_test)"
   ]
  },
  {
   "cell_type": "markdown",
   "metadata": {},
   "source": [
    "Let's look at the correlation between each of our factors and strokes:"
   ]
  },
  {
   "cell_type": "code",
   "execution_count": 6,
   "metadata": {},
   "outputs": [
    {
     "name": "stdout",
     "output_type": "stream",
     "text": [
      "[[ 0.00038966  0.26809247  0.03799421  0.02402563 -0.03885273  0.01064307\n",
      "   0.04891244 -0.0461496  -0.00036265  0.0113806  -0.00374972 -0.00597773\n",
      "  -0.02991557 -0.02289352  0.04491061  0.01387622]]\n"
     ]
    }
   ],
   "source": [
    "print(model.coef_)"
   ]
  },
  {
   "cell_type": "markdown",
   "metadata": {},
   "source": [
    "Here's what we can tell from this data:\n",
    "- Gender: .0004\n",
    "- Age: .2681\n",
    "- Hypertension: .0380\n",
    "- Heart Disease: .0240\n",
    "- Ever Married: -.0389\n",
    "- Work Type: .0106\n",
    "- Residence Type: .0106\n",
    "- Average Glucose Level: .0489\n",
    "- BMI: -.0461\n",
    "- Smoking Status: .01\n",
    "\n",
    "So the factors that *most* impact one's risk of a stroke are Hypertension, Heart Disease, Smoking Status, and Ever Married.\n",
    "\n",
    "Let's check our accuracy scores and see how the model has performed."
   ]
  },
  {
   "cell_type": "code",
   "execution_count": 7,
   "metadata": {},
   "outputs": [
    {
     "name": "stdout",
     "output_type": "stream",
     "text": [
      "0.08651669046511956\n",
      "0.08215215092395012\n"
     ]
    }
   ],
   "source": [
    "print(lr.score(x_test, y_test))\n",
    "print(lr.score(x_train, y_train))"
   ]
  },
  {
   "cell_type": "markdown",
   "metadata": {},
   "source": [
    "Let's run a prediction model on myself and see if I'm at risk."
   ]
  },
  {
   "cell_type": "code",
   "execution_count": 11,
   "metadata": {},
   "outputs": [
    {
     "name": "stdout",
     "output_type": "stream",
     "text": [
      "[[0.01127006]]\n"
     ]
    }
   ],
   "source": [
    "my_prediction = [[0, 0.246514, 1, 0, 1, 1, 0.234512, 0.159221, 0, 1, 0, 1, 0, 0, 0, 0]]\n",
    "predict = lr.predict(my_prediction)\n",
    "print(predict)"
   ]
  },
  {
   "cell_type": "markdown",
   "metadata": {},
   "source": [
    "I'd say I'm looking pretty good at .0113.\n",
    "Let's test our model on someone who did have a stroke and see what it gives us."
   ]
  },
  {
   "cell_type": "code",
   "execution_count": 9,
   "metadata": {},
   "outputs": [
    {
     "name": "stdout",
     "output_type": "stream",
     "text": [
      "   gender       age  hypertension  heart_disease  ever_married  \\\n",
      "0       0  0.816895             0              1             1   \n",
      "\n",
      "   Residence_type  avg_glucose_level      bmi  stroke  smokes  \\\n",
      "0               1           0.801265  0.30126       1       0   \n",
      "\n",
      "   formerly_smoked  never_smoked  Private  Self-employed  Govt_job  Child  \\\n",
      "0                1             0        1              0         0      0   \n",
      "\n",
      "   Never_worked  \n",
      "0             0  \n"
     ]
    }
   ],
   "source": [
    "print(df.head(1))\n"
   ]
  },
  {
   "cell_type": "code",
   "execution_count": 12,
   "metadata": {},
   "outputs": [
    {
     "name": "stdout",
     "output_type": "stream",
     "text": [
      "[[0.17138256]]\n"
     ]
    }
   ],
   "source": [
    "test_prediction = [[0, 0.816895, 0, 1, 1, 1, .801265, .30126, 0, 1, 0, 1, 0, 0, 0, 0]]\n",
    "predict=lr.predict(test_prediction)\n",
    "print(predict)"
   ]
  },
  {
   "cell_type": "markdown",
   "metadata": {},
   "source": [
    "A much higher score."
   ]
  },
  {
   "cell_type": "code",
   "execution_count": null,
   "metadata": {},
   "outputs": [],
   "source": []
  }
 ],
 "metadata": {
  "kernelspec": {
   "display_name": "Python 3",
   "language": "python",
   "name": "python3"
  },
  "language_info": {
   "codemirror_mode": {
    "name": "ipython",
    "version": 3
   },
   "file_extension": ".py",
   "mimetype": "text/x-python",
   "name": "python",
   "nbconvert_exporter": "python",
   "pygments_lexer": "ipython3",
   "version": "3.8.5"
  }
 },
 "nbformat": 4,
 "nbformat_minor": 4
}
